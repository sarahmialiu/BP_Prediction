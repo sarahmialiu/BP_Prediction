{
  "cells": [
    {
      "cell_type": "markdown",
      "metadata": {
        "id": "view-in-github",
        "colab_type": "text"
      },
      "source": [
        "<a href=\"https://colab.research.google.com/github/sarahmialiu/BP_Prediction/blob/main/BP_Prediction_(Sarah's_Version).ipynb\" target=\"_parent\"><img src=\"https://colab.research.google.com/assets/colab-badge.svg\" alt=\"Open In Colab\"/></a>"
      ]
    },
    {
      "cell_type": "markdown",
      "metadata": {
        "id": "xwawsDvwZzZt"
      },
      "source": [
        "# Import Statements"
      ]
    },
    {
      "cell_type": "code",
      "execution_count": 1,
      "metadata": {
        "id": "2RY-A_Zvhtp_"
      },
      "outputs": [],
      "source": [
        "# Import all the necessary functions here\n",
        "import torch\n",
        "import torch.nn as nn\n",
        "import torch.nn.functional as F\n",
        "import torchvision\n",
        "import torchvision.transforms as transforms\n",
        "\n",
        "import pandas as pd\n",
        "import dask.dataframe as dd\n",
        "\n",
        "import numpy as np\n",
        "\n",
        "import os\n",
        "import tensorflow as tf\n",
        "from tensorflow.keras.regularizers import L2\n",
        "from tensorflow import keras\n",
        "from tensorflow.keras import layers\n",
        "\n",
        "os.environ[\"TF_CPP_MIN_LOG_LEVEL\"] = \"2\"\n",
        "\n",
        "from tensorflow.keras.callbacks import ModelCheckpoint\n",
        "from tensorflow.keras import layers, regularizers\n",
        "from tensorflow.keras.models import Sequential\n",
        "from tensorflow.keras.optimizers import Adam"
      ]
    },
    {
      "cell_type": "markdown",
      "metadata": {
        "id": "KD-uTRBlZ8RI"
      },
      "source": [
        "# Importing and Prepping Data"
      ]
    },
    {
      "cell_type": "code",
      "execution_count": 2,
      "metadata": {
        "colab": {
          "base_uri": "https://localhost:8080/"
        },
        "id": "2nxzUB8ch5IS",
        "outputId": "3e6450c4-aec9-40a7-8423-88e73dc60955"
      },
      "outputs": [
        {
          "output_type": "stream",
          "name": "stdout",
          "text": [
            "Mounted at /content/gdrive\n"
          ]
        }
      ],
      "source": [
        "# This gives google colab access to Google Drive\n",
        "from google.colab import drive\n",
        "drive.mount('/content/gdrive')"
      ]
    },
    {
      "cell_type": "code",
      "execution_count": 3,
      "metadata": {
        "id": "iYKdlV72iFEn"
      },
      "outputs": [],
      "source": [
        "# Pathing to file directory\n",
        "pwd_lying = \"/content/gdrive/MyDrive/Body position prediction/lying data\"\n",
        "pwd_sitting = \"/content/gdrive/MyDrive/Body position prediction/sitting data\"\n",
        "pwd_standing = \"/content/gdrive/MyDrive/Body position prediction/standing data\"\n",
        "#!cd \"$pwd\" && ls\n",
        "\n",
        "# Note: For you to connect to the shared folder, you first have to add a\n",
        "# shortcut from the shared folder to your personal folder before you can path\n",
        "# your way into it\n",
        "data_files_lying = !ls gdrive/MyDrive/'Body position prediction'/'lying data'\n",
        "data_files_sitting = !ls gdrive/MyDrive/'Body position prediction'/'sitting data'\n",
        "data_files_standing = !ls gdrive/MyDrive/'Body position prediction'/'standing data'"
      ]
    },
    {
      "cell_type": "code",
      "execution_count": 4,
      "metadata": {
        "colab": {
          "base_uri": "https://localhost:8080/"
        },
        "id": "sDlzSLklgc83",
        "outputId": "3d7c33a7-ed5c-4831-da07-997131e92e8a"
      },
      "outputs": [
        {
          "output_type": "execute_result",
          "data": {
            "text/plain": [
              "['Ainsley_Standing_30_Minutes_2.csv',\n",
              " 'Bowen_Standing_30_Minutes.csv',\n",
              " 'Ainsley_Standing_30_Minutes.csv',\n",
              " 'Sarah_Standing_10_Minutes.csv',\n",
              " 'Bowen_Standing_10_Minutes2.csv',\n",
              " 'Sarah_Standing_11_Minutes.csv',\n",
              " 'Bowen_Standing_10_Minutes.csv',\n",
              " 'Sarah_Standing_20_Minutes_1.csv',\n",
              " 'Bowen_Standing_15_Minutes_Walking.csv',\n",
              " 'Sarah_Standing_20_Minutes_2.csv']"
            ]
          },
          "metadata": {},
          "execution_count": 4
        }
      ],
      "source": [
        "from numpy.lib.shape_base import split\n",
        "new_data_files_lying = []\n",
        "new_data_files_sitting = []\n",
        "new_data_files_standing = []\n",
        "\n",
        "# I'll need to split the names up in the list since it's grouping 2 at a time\n",
        "for i in data_files_lying:\n",
        "  new_data_files_lying.extend(i.split())\n",
        "for i in data_files_sitting:\n",
        "  new_data_files_sitting.extend(i.split())\n",
        "for i in data_files_standing:\n",
        "  new_data_files_standing.extend(i.split())\n",
        "\n",
        "new_data_files_standing"
      ]
    },
    {
      "cell_type": "code",
      "execution_count": 5,
      "metadata": {
        "colab": {
          "base_uri": "https://localhost:8080/"
        },
        "id": "cXnnYz7dWWpA",
        "outputId": "8e63af04-fac5-41af-a563-7c2b5b4dcf26"
      },
      "outputs": [
        {
          "output_type": "stream",
          "name": "stdout",
          "text": [
            "Ainsley_Lying_30_Minutes_2.csv\n",
            "Bowen_Lying_20_Minutes.csv\n",
            "Sarah_Lying_20_Minutes_3.csv\n",
            "Ainsley_Lying_30_Minutes.csv\n",
            "Bowen_Lying_21_Minutes.csv\n",
            "Sarah_Lying_20_Minutes.csv\n",
            "Bowen_Lying_20_Minutes_2.csv\n",
            "Sarah_Lying_20_Minutes_2.csv\n",
            "Ainsley_Sitting_30_Minutes_2.csv\n",
            "Bowen_Sitting_11_Minutes_2.csv\n",
            "Sarah_Sitting_20_Minutes_2.csv\n",
            "Ainsley_Sitting_30_Minutes.csv\n",
            "Bowen_Sitting_11_Minutes.csv\n",
            "Sarah_Sitting_20_Minutes_3.csv\n",
            "Bowen_Sitting_10_Minutes.csv\n",
            "Bowen_Sitting_40_Minutes.csv\n",
            "Sarah_Sitting_20_Minutes.csv\n",
            "Ainsley_Standing_30_Minutes_2.csv\n",
            "Bowen_Standing_30_Minutes.csv\n",
            "Ainsley_Standing_30_Minutes.csv\n",
            "Sarah_Standing_10_Minutes.csv\n",
            "Bowen_Standing_10_Minutes2.csv\n",
            "Sarah_Standing_11_Minutes.csv\n",
            "Bowen_Standing_10_Minutes.csv\n",
            "Sarah_Standing_20_Minutes_1.csv\n",
            "Bowen_Standing_15_Minutes_Walking.csv\n",
            "Sarah_Standing_20_Minutes_2.csv\n"
          ]
        }
      ],
      "source": [
        "raw_lying_data = pd.DataFrame()\n",
        "raw_sitting_data = pd.DataFrame()\n",
        "raw_standing_data = pd.DataFrame()\n",
        "\n",
        "\n",
        "for i in range(len(new_data_files_lying)):\n",
        "  print(new_data_files_lying[i])\n",
        "  df = pd.read_csv(pwd_lying + \"/\" + new_data_files_lying[i], header=1)\n",
        "  raw_lying_data = pd.concat([raw_lying_data, df])\n",
        "\n",
        "for i in range(len(new_data_files_sitting)):\n",
        "  print(new_data_files_sitting[i])\n",
        "  df = pd.read_csv(pwd_sitting + \"/\" + new_data_files_sitting[i], header=1)\n",
        "  raw_sitting_data = pd.concat([raw_sitting_data, df])\n",
        "\n",
        "for i in range(len(new_data_files_standing)):\n",
        "  print(new_data_files_standing[i])\n",
        "  df = pd.read_csv(pwd_standing + \"/\" + new_data_files_standing[i], header=1)\n",
        "  raw_standing_data = pd.concat([raw_standing_data, df])\n"
      ]
    },
    {
      "cell_type": "code",
      "execution_count": 6,
      "metadata": {
        "id": "sFPC9ktTgA1s",
        "colab": {
          "base_uri": "https://localhost:8080/"
        },
        "outputId": "2fc0ec48-c260-4a14-fb97-bb9582077d1a"
      },
      "outputs": [
        {
          "output_type": "stream",
          "name": "stderr",
          "text": [
            "<ipython-input-6-31a3e4792fcd>:6: SettingWithCopyWarning: \n",
            "A value is trying to be set on a copy of a slice from a DataFrame.\n",
            "Try using .loc[row_indexer,col_indexer] = value instead\n",
            "\n",
            "See the caveats in the documentation: https://pandas.pydata.org/pandas-docs/stable/user_guide/indexing.html#returning-a-view-versus-a-copy\n",
            "  ly['body postion'] = 1\n",
            "<ipython-input-6-31a3e4792fcd>:7: SettingWithCopyWarning: \n",
            "A value is trying to be set on a copy of a slice from a DataFrame.\n",
            "Try using .loc[row_indexer,col_indexer] = value instead\n",
            "\n",
            "See the caveats in the documentation: https://pandas.pydata.org/pandas-docs/stable/user_guide/indexing.html#returning-a-view-versus-a-copy\n",
            "  sit['body postion'] = 2\n",
            "<ipython-input-6-31a3e4792fcd>:8: SettingWithCopyWarning: \n",
            "A value is trying to be set on a copy of a slice from a DataFrame.\n",
            "Try using .loc[row_indexer,col_indexer] = value instead\n",
            "\n",
            "See the caveats in the documentation: https://pandas.pydata.org/pandas-docs/stable/user_guide/indexing.html#returning-a-view-versus-a-copy\n",
            "  stand['body postion'] = 3\n"
          ]
        }
      ],
      "source": [
        "# Now, I'm filtering the table since I only want time and the accelerometer data\n",
        "ly = raw_lying_data[[\"timestamp\", \"green\", \"green2\", \"ir\", \"red\", \"acceleration_x\", \"acceleration_y\", \"acceleration_z\"]]\n",
        "sit = raw_sitting_data[[\"timestamp\", \"green\", \"green2\", \"ir\", \"red\", \"acceleration_x\", \"acceleration_y\", \"acceleration_z\"]]\n",
        "stand = raw_standing_data[[\"timestamp\", \"green\", \"green2\", \"ir\", \"red\", \"acceleration_x\", \"acceleration_y\", \"acceleration_z\"]]\n",
        "\n",
        "ly['body postion'] = 1\n",
        "sit['body postion'] = 2\n",
        "stand['body postion'] = 3"
      ]
    },
    {
      "cell_type": "code",
      "source": [
        "from sklearn import preprocessing\n",
        "\n",
        "min_max_scaler = preprocessing.MinMaxScaler()\n",
        "\n",
        "ppg_sitting_values = sit[[\"green\", \"green2\", \"ir\", \"red\"]].values\n",
        "ppg_lying_values = ly[[\"green\", \"green2\", \"ir\", \"red\"]].values\n",
        "ppg_standing_values = stand[[\"green\", \"green2\", \"ir\", \"red\"]].values #returns a numpy array\n",
        "accel_sitting_values = sit[[\"acceleration_x\", \"acceleration_y\", \"acceleration_z\"]].values\n",
        "accel_standing_values = stand[[\"acceleration_x\", \"acceleration_y\", \"acceleration_z\"]].values\n",
        "accel_lying_values = ly[[\"acceleration_x\", \"acceleration_y\", \"acceleration_z\"]].values\n",
        "\n",
        "\n",
        "sitting_values_norm = min_max_scaler.fit_transform(ppg_sitting_values)\n",
        "lying_values_norm = min_max_scaler.fit_transform(ppg_lying_values)\n",
        "standing_values_norm = min_max_scaler.fit_transform(ppg_standing_values)\n",
        "\n",
        "sitting_values = np.concatenate((sitting_values_norm, accel_sitting_values), axis=1)\n",
        "standing_values = np.concatenate((standing_values_norm, accel_standing_values), axis=1)\n",
        "lying_values = np.concatenate((lying_values_norm, accel_lying_values), axis=1)\n",
        "\n",
        "\n",
        "sitting = pd.DataFrame(sitting_values)\n",
        "lying = pd.DataFrame(lying_values)\n",
        "standing = pd.DataFrame(standing_values)"
      ],
      "metadata": {
        "id": "xDf6J-IK-iiA"
      },
      "execution_count": 7,
      "outputs": []
    },
    {
      "cell_type": "code",
      "source": [
        "ppg_sitting_values"
      ],
      "metadata": {
        "id": "RBO2obCiD-m3",
        "colab": {
          "base_uri": "https://localhost:8080/"
        },
        "outputId": "3dc9189e-a1cc-4cf7-c84e-2b1f6c7d520b"
      },
      "execution_count": 8,
      "outputs": [
        {
          "output_type": "execute_result",
          "data": {
            "text/plain": [
              "array([[    66,     65, 332306,   1038],\n",
              "       [   223,    224, 429772,   3778],\n",
              "       [   112,    111, 367795,   1366],\n",
              "       ...,\n",
              "       [ 58398,  58414, 392307, 378687],\n",
              "       [ 58302,  58305, 392294, 378681],\n",
              "       [ 58204,  58205, 392297, 378716]])"
            ]
          },
          "metadata": {},
          "execution_count": 8
        }
      ]
    },
    {
      "cell_type": "code",
      "source": [
        "sitting"
      ],
      "metadata": {
        "id": "i_zrc20I-2QT",
        "colab": {
          "base_uri": "https://localhost:8080/",
          "height": 424
        },
        "outputId": "2b1b4ec8-9eba-4208-e2b6-576c99c09628"
      },
      "execution_count": 9,
      "outputs": [
        {
          "output_type": "execute_result",
          "data": {
            "text/plain": [
              "               0         1         2         3      4      5      6\n",
              "0       0.000000  0.000000  0.446089  0.000485  0.609 -0.139  0.681\n",
              "1       0.000299  0.000303  0.727302  0.005719  0.732 -0.134  0.544\n",
              "2       0.000088  0.000088  0.548484  0.001112  0.445 -0.228  0.542\n",
              "3       0.000141  0.000139  0.552555  0.000913  0.643 -0.119  0.654\n",
              "4       0.000233  0.000233  0.537935  0.000741  0.650 -0.109  0.664\n",
              "...          ...       ...       ...       ...    ...    ...    ...\n",
              "283770  0.110934  0.110940  0.618846  0.721669  0.368 -0.861  4.524\n",
              "283771  0.111056  0.111088  0.618987  0.721749  0.371 -0.793  4.537\n",
              "283772  0.111274  0.111306  0.619206  0.721874  0.356 -0.794  4.541\n",
              "283773  0.111091  0.111098  0.619169  0.721862  0.368 -0.842  4.545\n",
              "283774  0.110904  0.110907  0.619178  0.721929  0.359 -0.813  4.561\n",
              "\n",
              "[283775 rows x 7 columns]"
            ],
            "text/html": [
              "\n",
              "  <div id=\"df-7b768837-04b4-4645-bee5-abd0dd575a0f\" class=\"colab-df-container\">\n",
              "    <div>\n",
              "<style scoped>\n",
              "    .dataframe tbody tr th:only-of-type {\n",
              "        vertical-align: middle;\n",
              "    }\n",
              "\n",
              "    .dataframe tbody tr th {\n",
              "        vertical-align: top;\n",
              "    }\n",
              "\n",
              "    .dataframe thead th {\n",
              "        text-align: right;\n",
              "    }\n",
              "</style>\n",
              "<table border=\"1\" class=\"dataframe\">\n",
              "  <thead>\n",
              "    <tr style=\"text-align: right;\">\n",
              "      <th></th>\n",
              "      <th>0</th>\n",
              "      <th>1</th>\n",
              "      <th>2</th>\n",
              "      <th>3</th>\n",
              "      <th>4</th>\n",
              "      <th>5</th>\n",
              "      <th>6</th>\n",
              "    </tr>\n",
              "  </thead>\n",
              "  <tbody>\n",
              "    <tr>\n",
              "      <th>0</th>\n",
              "      <td>0.000000</td>\n",
              "      <td>0.000000</td>\n",
              "      <td>0.446089</td>\n",
              "      <td>0.000485</td>\n",
              "      <td>0.609</td>\n",
              "      <td>-0.139</td>\n",
              "      <td>0.681</td>\n",
              "    </tr>\n",
              "    <tr>\n",
              "      <th>1</th>\n",
              "      <td>0.000299</td>\n",
              "      <td>0.000303</td>\n",
              "      <td>0.727302</td>\n",
              "      <td>0.005719</td>\n",
              "      <td>0.732</td>\n",
              "      <td>-0.134</td>\n",
              "      <td>0.544</td>\n",
              "    </tr>\n",
              "    <tr>\n",
              "      <th>2</th>\n",
              "      <td>0.000088</td>\n",
              "      <td>0.000088</td>\n",
              "      <td>0.548484</td>\n",
              "      <td>0.001112</td>\n",
              "      <td>0.445</td>\n",
              "      <td>-0.228</td>\n",
              "      <td>0.542</td>\n",
              "    </tr>\n",
              "    <tr>\n",
              "      <th>3</th>\n",
              "      <td>0.000141</td>\n",
              "      <td>0.000139</td>\n",
              "      <td>0.552555</td>\n",
              "      <td>0.000913</td>\n",
              "      <td>0.643</td>\n",
              "      <td>-0.119</td>\n",
              "      <td>0.654</td>\n",
              "    </tr>\n",
              "    <tr>\n",
              "      <th>4</th>\n",
              "      <td>0.000233</td>\n",
              "      <td>0.000233</td>\n",
              "      <td>0.537935</td>\n",
              "      <td>0.000741</td>\n",
              "      <td>0.650</td>\n",
              "      <td>-0.109</td>\n",
              "      <td>0.664</td>\n",
              "    </tr>\n",
              "    <tr>\n",
              "      <th>...</th>\n",
              "      <td>...</td>\n",
              "      <td>...</td>\n",
              "      <td>...</td>\n",
              "      <td>...</td>\n",
              "      <td>...</td>\n",
              "      <td>...</td>\n",
              "      <td>...</td>\n",
              "    </tr>\n",
              "    <tr>\n",
              "      <th>283770</th>\n",
              "      <td>0.110934</td>\n",
              "      <td>0.110940</td>\n",
              "      <td>0.618846</td>\n",
              "      <td>0.721669</td>\n",
              "      <td>0.368</td>\n",
              "      <td>-0.861</td>\n",
              "      <td>4.524</td>\n",
              "    </tr>\n",
              "    <tr>\n",
              "      <th>283771</th>\n",
              "      <td>0.111056</td>\n",
              "      <td>0.111088</td>\n",
              "      <td>0.618987</td>\n",
              "      <td>0.721749</td>\n",
              "      <td>0.371</td>\n",
              "      <td>-0.793</td>\n",
              "      <td>4.537</td>\n",
              "    </tr>\n",
              "    <tr>\n",
              "      <th>283772</th>\n",
              "      <td>0.111274</td>\n",
              "      <td>0.111306</td>\n",
              "      <td>0.619206</td>\n",
              "      <td>0.721874</td>\n",
              "      <td>0.356</td>\n",
              "      <td>-0.794</td>\n",
              "      <td>4.541</td>\n",
              "    </tr>\n",
              "    <tr>\n",
              "      <th>283773</th>\n",
              "      <td>0.111091</td>\n",
              "      <td>0.111098</td>\n",
              "      <td>0.619169</td>\n",
              "      <td>0.721862</td>\n",
              "      <td>0.368</td>\n",
              "      <td>-0.842</td>\n",
              "      <td>4.545</td>\n",
              "    </tr>\n",
              "    <tr>\n",
              "      <th>283774</th>\n",
              "      <td>0.110904</td>\n",
              "      <td>0.110907</td>\n",
              "      <td>0.619178</td>\n",
              "      <td>0.721929</td>\n",
              "      <td>0.359</td>\n",
              "      <td>-0.813</td>\n",
              "      <td>4.561</td>\n",
              "    </tr>\n",
              "  </tbody>\n",
              "</table>\n",
              "<p>283775 rows × 7 columns</p>\n",
              "</div>\n",
              "    <div class=\"colab-df-buttons\">\n",
              "\n",
              "  <div class=\"colab-df-container\">\n",
              "    <button class=\"colab-df-convert\" onclick=\"convertToInteractive('df-7b768837-04b4-4645-bee5-abd0dd575a0f')\"\n",
              "            title=\"Convert this dataframe to an interactive table.\"\n",
              "            style=\"display:none;\">\n",
              "\n",
              "  <svg xmlns=\"http://www.w3.org/2000/svg\" height=\"24px\" viewBox=\"0 -960 960 960\">\n",
              "    <path d=\"M120-120v-720h720v720H120Zm60-500h600v-160H180v160Zm220 220h160v-160H400v160Zm0 220h160v-160H400v160ZM180-400h160v-160H180v160Zm440 0h160v-160H620v160ZM180-180h160v-160H180v160Zm440 0h160v-160H620v160Z\"/>\n",
              "  </svg>\n",
              "    </button>\n",
              "\n",
              "  <style>\n",
              "    .colab-df-container {\n",
              "      display:flex;\n",
              "      gap: 12px;\n",
              "    }\n",
              "\n",
              "    .colab-df-convert {\n",
              "      background-color: #E8F0FE;\n",
              "      border: none;\n",
              "      border-radius: 50%;\n",
              "      cursor: pointer;\n",
              "      display: none;\n",
              "      fill: #1967D2;\n",
              "      height: 32px;\n",
              "      padding: 0 0 0 0;\n",
              "      width: 32px;\n",
              "    }\n",
              "\n",
              "    .colab-df-convert:hover {\n",
              "      background-color: #E2EBFA;\n",
              "      box-shadow: 0px 1px 2px rgba(60, 64, 67, 0.3), 0px 1px 3px 1px rgba(60, 64, 67, 0.15);\n",
              "      fill: #174EA6;\n",
              "    }\n",
              "\n",
              "    .colab-df-buttons div {\n",
              "      margin-bottom: 4px;\n",
              "    }\n",
              "\n",
              "    [theme=dark] .colab-df-convert {\n",
              "      background-color: #3B4455;\n",
              "      fill: #D2E3FC;\n",
              "    }\n",
              "\n",
              "    [theme=dark] .colab-df-convert:hover {\n",
              "      background-color: #434B5C;\n",
              "      box-shadow: 0px 1px 3px 1px rgba(0, 0, 0, 0.15);\n",
              "      filter: drop-shadow(0px 1px 2px rgba(0, 0, 0, 0.3));\n",
              "      fill: #FFFFFF;\n",
              "    }\n",
              "  </style>\n",
              "\n",
              "    <script>\n",
              "      const buttonEl =\n",
              "        document.querySelector('#df-7b768837-04b4-4645-bee5-abd0dd575a0f button.colab-df-convert');\n",
              "      buttonEl.style.display =\n",
              "        google.colab.kernel.accessAllowed ? 'block' : 'none';\n",
              "\n",
              "      async function convertToInteractive(key) {\n",
              "        const element = document.querySelector('#df-7b768837-04b4-4645-bee5-abd0dd575a0f');\n",
              "        const dataTable =\n",
              "          await google.colab.kernel.invokeFunction('convertToInteractive',\n",
              "                                                    [key], {});\n",
              "        if (!dataTable) return;\n",
              "\n",
              "        const docLinkHtml = 'Like what you see? Visit the ' +\n",
              "          '<a target=\"_blank\" href=https://colab.research.google.com/notebooks/data_table.ipynb>data table notebook</a>'\n",
              "          + ' to learn more about interactive tables.';\n",
              "        element.innerHTML = '';\n",
              "        dataTable['output_type'] = 'display_data';\n",
              "        await google.colab.output.renderOutput(dataTable, element);\n",
              "        const docLink = document.createElement('div');\n",
              "        docLink.innerHTML = docLinkHtml;\n",
              "        element.appendChild(docLink);\n",
              "      }\n",
              "    </script>\n",
              "  </div>\n",
              "\n",
              "\n",
              "<div id=\"df-14a2dd99-3557-4899-8e20-3858446a9564\">\n",
              "  <button class=\"colab-df-quickchart\" onclick=\"quickchart('df-14a2dd99-3557-4899-8e20-3858446a9564')\"\n",
              "            title=\"Suggest charts\"\n",
              "            style=\"display:none;\">\n",
              "\n",
              "<svg xmlns=\"http://www.w3.org/2000/svg\" height=\"24px\"viewBox=\"0 0 24 24\"\n",
              "     width=\"24px\">\n",
              "    <g>\n",
              "        <path d=\"M19 3H5c-1.1 0-2 .9-2 2v14c0 1.1.9 2 2 2h14c1.1 0 2-.9 2-2V5c0-1.1-.9-2-2-2zM9 17H7v-7h2v7zm4 0h-2V7h2v10zm4 0h-2v-4h2v4z\"/>\n",
              "    </g>\n",
              "</svg>\n",
              "  </button>\n",
              "\n",
              "<style>\n",
              "  .colab-df-quickchart {\n",
              "      --bg-color: #E8F0FE;\n",
              "      --fill-color: #1967D2;\n",
              "      --hover-bg-color: #E2EBFA;\n",
              "      --hover-fill-color: #174EA6;\n",
              "      --disabled-fill-color: #AAA;\n",
              "      --disabled-bg-color: #DDD;\n",
              "  }\n",
              "\n",
              "  [theme=dark] .colab-df-quickchart {\n",
              "      --bg-color: #3B4455;\n",
              "      --fill-color: #D2E3FC;\n",
              "      --hover-bg-color: #434B5C;\n",
              "      --hover-fill-color: #FFFFFF;\n",
              "      --disabled-bg-color: #3B4455;\n",
              "      --disabled-fill-color: #666;\n",
              "  }\n",
              "\n",
              "  .colab-df-quickchart {\n",
              "    background-color: var(--bg-color);\n",
              "    border: none;\n",
              "    border-radius: 50%;\n",
              "    cursor: pointer;\n",
              "    display: none;\n",
              "    fill: var(--fill-color);\n",
              "    height: 32px;\n",
              "    padding: 0;\n",
              "    width: 32px;\n",
              "  }\n",
              "\n",
              "  .colab-df-quickchart:hover {\n",
              "    background-color: var(--hover-bg-color);\n",
              "    box-shadow: 0 1px 2px rgba(60, 64, 67, 0.3), 0 1px 3px 1px rgba(60, 64, 67, 0.15);\n",
              "    fill: var(--button-hover-fill-color);\n",
              "  }\n",
              "\n",
              "  .colab-df-quickchart-complete:disabled,\n",
              "  .colab-df-quickchart-complete:disabled:hover {\n",
              "    background-color: var(--disabled-bg-color);\n",
              "    fill: var(--disabled-fill-color);\n",
              "    box-shadow: none;\n",
              "  }\n",
              "\n",
              "  .colab-df-spinner {\n",
              "    border: 2px solid var(--fill-color);\n",
              "    border-color: transparent;\n",
              "    border-bottom-color: var(--fill-color);\n",
              "    animation:\n",
              "      spin 1s steps(1) infinite;\n",
              "  }\n",
              "\n",
              "  @keyframes spin {\n",
              "    0% {\n",
              "      border-color: transparent;\n",
              "      border-bottom-color: var(--fill-color);\n",
              "      border-left-color: var(--fill-color);\n",
              "    }\n",
              "    20% {\n",
              "      border-color: transparent;\n",
              "      border-left-color: var(--fill-color);\n",
              "      border-top-color: var(--fill-color);\n",
              "    }\n",
              "    30% {\n",
              "      border-color: transparent;\n",
              "      border-left-color: var(--fill-color);\n",
              "      border-top-color: var(--fill-color);\n",
              "      border-right-color: var(--fill-color);\n",
              "    }\n",
              "    40% {\n",
              "      border-color: transparent;\n",
              "      border-right-color: var(--fill-color);\n",
              "      border-top-color: var(--fill-color);\n",
              "    }\n",
              "    60% {\n",
              "      border-color: transparent;\n",
              "      border-right-color: var(--fill-color);\n",
              "    }\n",
              "    80% {\n",
              "      border-color: transparent;\n",
              "      border-right-color: var(--fill-color);\n",
              "      border-bottom-color: var(--fill-color);\n",
              "    }\n",
              "    90% {\n",
              "      border-color: transparent;\n",
              "      border-bottom-color: var(--fill-color);\n",
              "    }\n",
              "  }\n",
              "</style>\n",
              "\n",
              "  <script>\n",
              "    async function quickchart(key) {\n",
              "      const quickchartButtonEl =\n",
              "        document.querySelector('#' + key + ' button');\n",
              "      quickchartButtonEl.disabled = true;  // To prevent multiple clicks.\n",
              "      quickchartButtonEl.classList.add('colab-df-spinner');\n",
              "      try {\n",
              "        const charts = await google.colab.kernel.invokeFunction(\n",
              "            'suggestCharts', [key], {});\n",
              "      } catch (error) {\n",
              "        console.error('Error during call to suggestCharts:', error);\n",
              "      }\n",
              "      quickchartButtonEl.classList.remove('colab-df-spinner');\n",
              "      quickchartButtonEl.classList.add('colab-df-quickchart-complete');\n",
              "    }\n",
              "    (() => {\n",
              "      let quickchartButtonEl =\n",
              "        document.querySelector('#df-14a2dd99-3557-4899-8e20-3858446a9564 button');\n",
              "      quickchartButtonEl.style.display =\n",
              "        google.colab.kernel.accessAllowed ? 'block' : 'none';\n",
              "    })();\n",
              "  </script>\n",
              "</div>\n",
              "    </div>\n",
              "  </div>\n"
            ],
            "application/vnd.google.colaboratory.intrinsic+json": {
              "type": "dataframe",
              "variable_name": "sitting"
            }
          },
          "metadata": {},
          "execution_count": 9
        }
      ]
    },
    {
      "cell_type": "code",
      "execution_count": 10,
      "metadata": {
        "id": "mLEvBW-HB34h"
      },
      "outputs": [],
      "source": [
        "# Put it in a tensor\n",
        "\n",
        "tt_lying = torch.tensor(lying[[0,1,2,3,4,5,6]].values)\n",
        "tt_sitting = torch.tensor(sitting[[0,1,2,3,4,5,6]].values)\n",
        "tt_standing = torch.tensor(standing[[0,1,2,3,4,5,6]].values)"
      ]
    },
    {
      "cell_type": "code",
      "execution_count": 11,
      "metadata": {
        "id": "BVuXFkh_Sdnf"
      },
      "outputs": [],
      "source": [
        "unfolded_tt_lying = tt_lying.unfold(0, 1000, 50)\n",
        "unfolded_tt_sitting = tt_sitting.unfold(0, 1000, 50)\n",
        "unfolded_tt_standing = tt_standing.unfold(0, 1000, 50)"
      ]
    },
    {
      "cell_type": "markdown",
      "metadata": {
        "id": "sJK_fPKFgQks"
      },
      "source": [
        "# Creating Training and Testing Datasets"
      ]
    },
    {
      "cell_type": "code",
      "execution_count": 12,
      "metadata": {
        "id": "x1uJEfLoTRKs",
        "colab": {
          "base_uri": "https://localhost:8080/"
        },
        "outputId": "fe4920ff-413b-4a5f-a3fa-ab69192d524c"
      },
      "outputs": [
        {
          "output_type": "execute_result",
          "data": {
            "text/plain": [
              "(torch.Size([12776, 7, 1000]), torch.Size([3193, 7, 1000]))"
            ]
          },
          "metadata": {},
          "execution_count": 12
        }
      ],
      "source": [
        "train_tt_accels = torch.empty(0, 7, 1000)\n",
        "test_tt_accels = torch.empty(0, 7, 1000)\n",
        "\n",
        "train_label = []\n",
        "test_label = []\n",
        "\n",
        "unfolded_tt_accels = [unfolded_tt_lying, unfolded_tt_sitting, unfolded_tt_standing]\n",
        "\n",
        "for i in range(len(unfolded_tt_accels)):\n",
        "  train_dataset, test_dataset = torch.utils.data.random_split(unfolded_tt_accels[i], [0.8,.2])\n",
        "\n",
        "  train = torch.stack([t for t in train_dataset])\n",
        "  test = torch.stack([t for t in test_dataset])\n",
        "\n",
        "  train_tt_accels = torch.cat((train_tt_accels, train), 0)\n",
        "  test_tt_accels = torch.cat((test_tt_accels, test), 0)\n",
        "\n",
        "  for j in range(len(train)):\n",
        "    train_label.append(i)\n",
        "  for j in range(len(test)):\n",
        "    test_label.append(i)\n",
        "\n",
        "train_tt_accels.shape, test_tt_accels.shape"
      ]
    },
    {
      "cell_type": "markdown",
      "metadata": {
        "id": "0K98YFLfQKhi"
      },
      "source": [
        "# ML Model"
      ]
    },
    {
      "cell_type": "code",
      "execution_count": 16,
      "metadata": {
        "id": "4WT2HrPfjeOP",
        "colab": {
          "base_uri": "https://localhost:8080/"
        },
        "outputId": "27a4f92e-1e8c-4cd3-bcec-da8383b785fc"
      },
      "outputs": [
        {
          "output_type": "stream",
          "name": "stdout",
          "text": [
            "Epoch 1/20\n",
            "399/400 [============================>.] - ETA: 0s - loss: 1.0876 - accuracy: 0.5250\n",
            "Epoch 1: val_accuracy improved from -inf to 0.71156, saving model to best_model.h5\n",
            "400/400 [==============================] - 15s 25ms/step - loss: 1.0873 - accuracy: 0.5251 - val_loss: 0.7984 - val_accuracy: 0.7116\n",
            "Epoch 2/20\n",
            "399/400 [============================>.] - ETA: 0s - loss: 0.7571 - accuracy: 0.7047\n",
            "Epoch 2: val_accuracy improved from 0.71156 to 0.78766, saving model to best_model.h5\n",
            "400/400 [==============================] - 9s 23ms/step - loss: 0.7570 - accuracy: 0.7047 - val_loss: 0.5984 - val_accuracy: 0.7877\n",
            "Epoch 3/20\n",
            "399/400 [============================>.] - ETA: 0s - loss: 0.5975 - accuracy: 0.7890\n",
            "Epoch 3: val_accuracy improved from 0.78766 to 0.80520, saving model to best_model.h5\n",
            "400/400 [==============================] - 8s 21ms/step - loss: 0.5979 - accuracy: 0.7889 - val_loss: 0.5520 - val_accuracy: 0.8052\n",
            "Epoch 4/20\n",
            "400/400 [==============================] - ETA: 0s - loss: 0.5609 - accuracy: 0.8003\n",
            "Epoch 4: val_accuracy improved from 0.80520 to 0.85500, saving model to best_model.h5\n",
            "400/400 [==============================] - 10s 24ms/step - loss: 0.5609 - accuracy: 0.8003 - val_loss: 0.4120 - val_accuracy: 0.8550\n",
            "Epoch 5/20\n",
            "400/400 [==============================] - ETA: 0s - loss: 0.4938 - accuracy: 0.8289\n",
            "Epoch 5: val_accuracy did not improve from 0.85500\n",
            "400/400 [==============================] - 9s 23ms/step - loss: 0.4938 - accuracy: 0.8289 - val_loss: 0.4137 - val_accuracy: 0.8418\n",
            "Epoch 6/20\n",
            "400/400 [==============================] - ETA: 0s - loss: 0.4970 - accuracy: 0.8282\n",
            "Epoch 6: val_accuracy did not improve from 0.85500\n",
            "400/400 [==============================] - 9s 23ms/step - loss: 0.4970 - accuracy: 0.8282 - val_loss: 1.2167 - val_accuracy: 0.6608\n",
            "Epoch 7/20\n",
            "400/400 [==============================] - ETA: 0s - loss: 0.5199 - accuracy: 0.8055\n",
            "Epoch 7: val_accuracy did not improve from 0.85500\n",
            "400/400 [==============================] - 14s 35ms/step - loss: 0.5199 - accuracy: 0.8055 - val_loss: 0.3735 - val_accuracy: 0.8537\n",
            "Epoch 8/20\n",
            "399/400 [============================>.] - ETA: 0s - loss: 0.4067 - accuracy: 0.8613\n",
            "Epoch 8: val_accuracy improved from 0.85500 to 0.88350, saving model to best_model.h5\n",
            "400/400 [==============================] - 10s 25ms/step - loss: 0.4069 - accuracy: 0.8612 - val_loss: 0.3084 - val_accuracy: 0.8835\n",
            "Epoch 9/20\n",
            "398/400 [============================>.] - ETA: 0s - loss: 0.3733 - accuracy: 0.8712\n",
            "Epoch 9: val_accuracy did not improve from 0.88350\n",
            "400/400 [==============================] - 8s 19ms/step - loss: 0.3738 - accuracy: 0.8709 - val_loss: 0.3222 - val_accuracy: 0.8829\n",
            "Epoch 10/20\n",
            "399/400 [============================>.] - ETA: 0s - loss: 0.3781 - accuracy: 0.8617\n",
            "Epoch 10: val_accuracy did not improve from 0.88350\n",
            "400/400 [==============================] - 10s 25ms/step - loss: 0.3780 - accuracy: 0.8618 - val_loss: 0.3271 - val_accuracy: 0.8785\n",
            "Epoch 11/20\n",
            "398/400 [============================>.] - ETA: 0s - loss: 0.4137 - accuracy: 0.8489\n",
            "Epoch 11: val_accuracy did not improve from 0.88350\n",
            "400/400 [==============================] - 9s 22ms/step - loss: 0.4135 - accuracy: 0.8491 - val_loss: 0.3897 - val_accuracy: 0.8578\n",
            "Epoch 12/20\n",
            "400/400 [==============================] - ETA: 0s - loss: 0.3890 - accuracy: 0.8609\n",
            "Epoch 12: val_accuracy improved from 0.88350 to 0.88443, saving model to best_model.h5\n",
            "400/400 [==============================] - 9s 23ms/step - loss: 0.3890 - accuracy: 0.8609 - val_loss: 0.3005 - val_accuracy: 0.8844\n",
            "Epoch 13/20\n",
            "399/400 [============================>.] - ETA: 0s - loss: 0.3542 - accuracy: 0.8784\n",
            "Epoch 13: val_accuracy improved from 0.88443 to 0.89634, saving model to best_model.h5\n",
            "400/400 [==============================] - 9s 23ms/step - loss: 0.3541 - accuracy: 0.8784 - val_loss: 0.2781 - val_accuracy: 0.8963\n",
            "Epoch 14/20\n",
            "399/400 [============================>.] - ETA: 0s - loss: 0.3342 - accuracy: 0.8825\n",
            "Epoch 14: val_accuracy did not improve from 0.89634\n",
            "400/400 [==============================] - 9s 22ms/step - loss: 0.3343 - accuracy: 0.8824 - val_loss: 0.3003 - val_accuracy: 0.8841\n",
            "Epoch 15/20\n",
            "400/400 [==============================] - ETA: 0s - loss: 0.3318 - accuracy: 0.8825\n",
            "Epoch 15: val_accuracy did not improve from 0.89634\n",
            "400/400 [==============================] - 9s 23ms/step - loss: 0.3318 - accuracy: 0.8825 - val_loss: 0.2918 - val_accuracy: 0.8929\n",
            "Epoch 16/20\n",
            "399/400 [============================>.] - ETA: 0s - loss: 0.3331 - accuracy: 0.8843\n",
            "Epoch 16: val_accuracy did not improve from 0.89634\n",
            "400/400 [==============================] - 11s 27ms/step - loss: 0.3336 - accuracy: 0.8842 - val_loss: 0.2806 - val_accuracy: 0.8951\n",
            "Epoch 17/20\n",
            "400/400 [==============================] - ETA: 0s - loss: 0.3435 - accuracy: 0.8745\n",
            "Epoch 17: val_accuracy improved from 0.89634 to 0.90291, saving model to best_model.h5\n",
            "400/400 [==============================] - 9s 22ms/step - loss: 0.3435 - accuracy: 0.8745 - val_loss: 0.2741 - val_accuracy: 0.9029\n",
            "Epoch 18/20\n",
            "397/400 [============================>.] - ETA: 0s - loss: 0.3052 - accuracy: 0.8911\n",
            "Epoch 18: val_accuracy improved from 0.90291 to 0.90980, saving model to best_model.h5\n",
            "400/400 [==============================] - 9s 23ms/step - loss: 0.3055 - accuracy: 0.8909 - val_loss: 0.2537 - val_accuracy: 0.9098\n",
            "Epoch 19/20\n",
            "398/400 [============================>.] - ETA: 0s - loss: 0.2926 - accuracy: 0.8963\n",
            "Epoch 19: val_accuracy did not improve from 0.90980\n",
            "400/400 [==============================] - 10s 25ms/step - loss: 0.2936 - accuracy: 0.8961 - val_loss: 0.2631 - val_accuracy: 0.8901\n",
            "Epoch 20/20\n",
            "399/400 [============================>.] - ETA: 0s - loss: 0.2943 - accuracy: 0.8929\n",
            "Epoch 20: val_accuracy did not improve from 0.90980\n",
            "400/400 [==============================] - 9s 23ms/step - loss: 0.2942 - accuracy: 0.8929 - val_loss: 0.2710 - val_accuracy: 0.8832\n"
          ]
        }
      ],
      "source": [
        "def build_model():\n",
        "    model = Sequential()\n",
        "    model.add(layers.LSTM(32, activation='relu', return_sequences=True, input_shape=(7, 1000)))\n",
        "    model.add(layers.LSTM(32, activation='relu'))\n",
        "\n",
        "    model.add(layers.Dense(32, activation='relu', kernel_regularizer=regularizers.l2(0.001)))\n",
        "    model.add(layers.Dropout(0.3))\n",
        "    model.add(layers.BatchNormalization())\n",
        "\n",
        "    model.add(layers.Dense(16, activation='relu', kernel_regularizer=regularizers.l2(0.001)))\n",
        "    model.add(layers.Dropout(0.3))\n",
        "    model.add(layers.BatchNormalization())\n",
        "\n",
        "    model.add(layers.Dense(3, activation='softmax'))\n",
        "\n",
        "    model.compile(\n",
        "        optimizer=Adam(learning_rate=0.001),\n",
        "        loss='sparse_categorical_crossentropy',\n",
        "        metrics=['accuracy']\n",
        "    )\n",
        "    return model\n",
        "\n",
        "\n",
        "# Define your training and validation data\n",
        "x_train = train_tt_accels.numpy()\n",
        "y_train = np.array(train_label)\n",
        "x_val = test_tt_accels.numpy()\n",
        "y_val = np.array(test_label)\n",
        "\n",
        "x_train.shape\n",
        "\n",
        "# Build the model\n",
        "model = build_model()\n",
        "\n",
        "# Set up ModelCheckpoint callback to save the best model\n",
        "checkpoint = ModelCheckpoint(\"best_model.h5\", monitor='val_accuracy', save_best_only=True, mode='max', verbose=1)\n",
        "\n",
        "# Train the model with callbacks\n",
        "history = model.fit(x_train, y_train, epochs=20, validation_data=(x_val, y_val), callbacks=[checkpoint])\n"
      ]
    },
    {
      "cell_type": "code",
      "source": [
        "# Evaluate the best model\n",
        "best_model = build_model()  # Rebuild the model\n",
        "best_model.load_weights(\"best_model.h5\")  # Load the best weights\n",
        "loss, accuracy = best_model.evaluate(x_val, y_val)\n",
        "print(f\"Validation loss of the best model: {loss}, Validation accuracy of the best model: {accuracy}\")"
      ],
      "metadata": {
        "id": "_RDDlVFMFO97",
        "colab": {
          "base_uri": "https://localhost:8080/"
        },
        "outputId": "c574f50f-4967-4b69-832f-160ddfe5ce77"
      },
      "execution_count": 14,
      "outputs": [
        {
          "output_type": "stream",
          "name": "stdout",
          "text": [
            "100/100 [==============================] - 2s 8ms/step - loss: 0.1993 - accuracy: 0.9251\n",
            "Validation loss of the best model: 0.199269101023674, Validation accuracy of the best model: 0.9251487851142883\n"
          ]
        }
      ]
    },
    {
      "cell_type": "code",
      "source": [
        "model.save('my_model.keras')"
      ],
      "metadata": {
        "id": "pqZbLgtmHf5X"
      },
      "execution_count": 15,
      "outputs": []
    }
  ],
  "metadata": {
    "colab": {
      "provenance": [],
      "include_colab_link": true
    },
    "kernelspec": {
      "display_name": "Python 3",
      "name": "python3"
    },
    "language_info": {
      "name": "python"
    }
  },
  "nbformat": 4,
  "nbformat_minor": 0
}